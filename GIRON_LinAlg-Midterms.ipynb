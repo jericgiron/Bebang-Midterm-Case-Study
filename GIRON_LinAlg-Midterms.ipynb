{
 "cells": [
  {
   "cell_type": "markdown",
   "metadata": {},
   "source": [
    "<h1>Linear Algebra (CpE210A)"
   ]
  },
  {
   "cell_type": "markdown",
   "metadata": {},
   "source": [
    "<h3>Midterms Project"
   ]
  },
  {
   "cell_type": "markdown",
   "metadata": {},
   "source": [
    "Coded and submitted by:<br>\n",
    "<i>GIRON, JERIC S.<br>\n",
    "    201913397 <br>\n",
    "   58010 </i>"
   ]
  },
  {
   "cell_type": "markdown",
   "metadata": {},
   "source": [
    "Directions\n",
    "This Jupyter Notebook will serve as your base code for your Midterm Project. You must further format and provide complete discussion on the given topic. \n",
    "- Provide all necessary explanations for specific code blocks. \n",
    "- Provide illustrations for key results.\n",
    "- Observe clean code (intuitive variable names, proper commenting, proper code spacing)\n",
    "- Provide a summary discussion at the end\n",
    "\n",
    "Failure to use this format or failure to update the document will be given a deduction equivalent to 50% of the original score. "
   ]
  },
  {
   "cell_type": "markdown",
   "metadata": {},
   "source": [
    "### Case"
   ]
  },
  {
   "cell_type": "markdown",
   "metadata": {},
   "source": [
    "Bebang is back to consult you about her business. Furthering her data analytics initiative she asks you for help to compute some relevant data. Now she is asking you to compute and visualize her sales and costs for the past year. She has given you the datasets attached to her request."
   ]
  },
  {
   "cell_type": "markdown",
   "metadata": {},
   "source": [
    "### Problem"
   ]
  },
  {
   "cell_type": "markdown",
   "metadata": {},
   "source": [
    "State and explain Bebang's problem here and provide the deliverables."
   ]
  },
  {
   "cell_type": "markdown",
   "metadata": {},
   "source": [
    "# Proof of Concept"
   ]
  },
  {
   "cell_type": "markdown",
   "metadata": {},
   "source": [
    "Now that you have a grasp on the requirements we need to start with making a program to prove that her problem is solvable. As a Linear Algebra student, we will be focusin on applying vector operations to meet her needs. First, we need to import her data. We will use the `pandas` library for this. For more information you can look into their documentation [here](https://pandas.pydata.org/)."
   ]
  },
  {
   "cell_type": "code",
   "execution_count": 4,
   "metadata": {},
   "outputs": [],
   "source": [
    "import pandas as pd"
   ]
  },
  {
   "cell_type": "code",
   "execution_count": 5,
   "metadata": {},
   "outputs": [
    {
     "data": {
      "text/html": [
       "<div>\n",
       "<style scoped>\n",
       "    .dataframe tbody tr th:only-of-type {\n",
       "        vertical-align: middle;\n",
       "    }\n",
       "\n",
       "    .dataframe tbody tr th {\n",
       "        vertical-align: top;\n",
       "    }\n",
       "\n",
       "    .dataframe thead th {\n",
       "        text-align: right;\n",
       "    }\n",
       "</style>\n",
       "<table border=\"1\" class=\"dataframe\">\n",
       "  <thead>\n",
       "    <tr style=\"text-align: right;\">\n",
       "      <th></th>\n",
       "      <th>red velvet</th>\n",
       "      <th>oreo</th>\n",
       "      <th>sugar glazed</th>\n",
       "      <th>almond honey</th>\n",
       "      <th>matcha</th>\n",
       "      <th>strawberry cream</th>\n",
       "      <th>brown sugar boba</th>\n",
       "      <th>furits and nuts</th>\n",
       "      <th>dark chocolate</th>\n",
       "      <th>chocolate and orange</th>\n",
       "      <th>choco mint</th>\n",
       "      <th>choco butter naught</th>\n",
       "    </tr>\n",
       "  </thead>\n",
       "  <tbody>\n",
       "    <tr>\n",
       "      <th>price per piece</th>\n",
       "      <td>35</td>\n",
       "      <td>25</td>\n",
       "      <td>20</td>\n",
       "      <td>35</td>\n",
       "      <td>50</td>\n",
       "      <td>40</td>\n",
       "      <td>40</td>\n",
       "      <td>45</td>\n",
       "      <td>30</td>\n",
       "      <td>40</td>\n",
       "      <td>45</td>\n",
       "      <td>45</td>\n",
       "    </tr>\n",
       "    <tr>\n",
       "      <th>cost per piece</th>\n",
       "      <td>25</td>\n",
       "      <td>15</td>\n",
       "      <td>10</td>\n",
       "      <td>20</td>\n",
       "      <td>35</td>\n",
       "      <td>31</td>\n",
       "      <td>30</td>\n",
       "      <td>25</td>\n",
       "      <td>15</td>\n",
       "      <td>25</td>\n",
       "      <td>32</td>\n",
       "      <td>31</td>\n",
       "    </tr>\n",
       "  </tbody>\n",
       "</table>\n",
       "</div>"
      ],
      "text/plain": [
       "                 red velvet  oreo  sugar glazed  almond honey  matcha  \\\n",
       "price per piece          35    25            20            35      50   \n",
       "cost per piece           25    15            10            20      35   \n",
       "\n",
       "                 strawberry cream  brown sugar boba  furits and nuts  \\\n",
       "price per piece                40                40               45   \n",
       "cost per piece                 31                30               25   \n",
       "\n",
       "                 dark chocolate  chocolate and orange  choco mint  \\\n",
       "price per piece              30                    40          45   \n",
       "cost per piece               15                    25          32   \n",
       "\n",
       "                 choco butter naught  \n",
       "price per piece                   45  \n",
       "cost per piece                    31  "
      ]
     },
     "execution_count": 5,
     "metadata": {},
     "output_type": "execute_result"
    }
   ],
   "source": [
    "## Saving those files here to view datas in this notebook.\n",
    "file_prices = \"bebang prices.csv\"\n",
    "file_sales = \"bebang sales.csv\"\n",
    "\n",
    "df_prices = pd.read_csv(file_prices, index_col=0)\n",
    "df_sales = pd.read_csv(file_sales)\n",
    "\n",
    "\n",
    "## Let's check what's in df_prices\n",
    "df_prices"
   ]
  },
  {
   "cell_type": "code",
   "execution_count": 6,
   "metadata": {},
   "outputs": [
    {
     "data": {
      "text/html": [
       "<div>\n",
       "<style scoped>\n",
       "    .dataframe tbody tr th:only-of-type {\n",
       "        vertical-align: middle;\n",
       "    }\n",
       "\n",
       "    .dataframe tbody tr th {\n",
       "        vertical-align: top;\n",
       "    }\n",
       "\n",
       "    .dataframe thead th {\n",
       "        text-align: right;\n",
       "    }\n",
       "</style>\n",
       "<table border=\"1\" class=\"dataframe\">\n",
       "  <thead>\n",
       "    <tr style=\"text-align: right;\">\n",
       "      <th></th>\n",
       "      <th>flavor</th>\n",
       "      <th>january</th>\n",
       "      <th>february</th>\n",
       "      <th>march</th>\n",
       "      <th>april</th>\n",
       "      <th>may</th>\n",
       "      <th>june</th>\n",
       "      <th>july</th>\n",
       "      <th>august</th>\n",
       "      <th>september</th>\n",
       "      <th>october</th>\n",
       "      <th>november</th>\n",
       "      <th>december</th>\n",
       "    </tr>\n",
       "  </thead>\n",
       "  <tbody>\n",
       "    <tr>\n",
       "      <th>0</th>\n",
       "      <td>red velvet</td>\n",
       "      <td>781</td>\n",
       "      <td>524</td>\n",
       "      <td>364</td>\n",
       "      <td>157</td>\n",
       "      <td>894</td>\n",
       "      <td>56</td>\n",
       "      <td>89</td>\n",
       "      <td>41</td>\n",
       "      <td>23</td>\n",
       "      <td>78</td>\n",
       "      <td>231</td>\n",
       "      <td>899</td>\n",
       "    </tr>\n",
       "    <tr>\n",
       "      <th>1</th>\n",
       "      <td>oreo</td>\n",
       "      <td>210</td>\n",
       "      <td>324</td>\n",
       "      <td>344</td>\n",
       "      <td>32</td>\n",
       "      <td>123</td>\n",
       "      <td>1</td>\n",
       "      <td>3</td>\n",
       "      <td>0</td>\n",
       "      <td>1</td>\n",
       "      <td>6</td>\n",
       "      <td>312</td>\n",
       "      <td>548</td>\n",
       "    </tr>\n",
       "    <tr>\n",
       "      <th>2</th>\n",
       "      <td>sugar glazed</td>\n",
       "      <td>599</td>\n",
       "      <td>674</td>\n",
       "      <td>854</td>\n",
       "      <td>14</td>\n",
       "      <td>467</td>\n",
       "      <td>78</td>\n",
       "      <td>36</td>\n",
       "      <td>48</td>\n",
       "      <td>75</td>\n",
       "      <td>98</td>\n",
       "      <td>781</td>\n",
       "      <td>1602</td>\n",
       "    </tr>\n",
       "    <tr>\n",
       "      <th>3</th>\n",
       "      <td>almond honey</td>\n",
       "      <td>124</td>\n",
       "      <td>112</td>\n",
       "      <td>114</td>\n",
       "      <td>23</td>\n",
       "      <td>198</td>\n",
       "      <td>12</td>\n",
       "      <td>32</td>\n",
       "      <td>41</td>\n",
       "      <td>23</td>\n",
       "      <td>36</td>\n",
       "      <td>300</td>\n",
       "      <td>566</td>\n",
       "    </tr>\n",
       "    <tr>\n",
       "      <th>4</th>\n",
       "      <td>matcha</td>\n",
       "      <td>645</td>\n",
       "      <td>498</td>\n",
       "      <td>885</td>\n",
       "      <td>98</td>\n",
       "      <td>177</td>\n",
       "      <td>98</td>\n",
       "      <td>43</td>\n",
       "      <td>96</td>\n",
       "      <td>26</td>\n",
       "      <td>71</td>\n",
       "      <td>549</td>\n",
       "      <td>897</td>\n",
       "    </tr>\n",
       "    <tr>\n",
       "      <th>5</th>\n",
       "      <td>strawberry cream</td>\n",
       "      <td>210</td>\n",
       "      <td>372</td>\n",
       "      <td>369</td>\n",
       "      <td>78</td>\n",
       "      <td>163</td>\n",
       "      <td>26</td>\n",
       "      <td>45</td>\n",
       "      <td>22</td>\n",
       "      <td>54</td>\n",
       "      <td>41</td>\n",
       "      <td>207</td>\n",
       "      <td>456</td>\n",
       "    </tr>\n",
       "    <tr>\n",
       "      <th>6</th>\n",
       "      <td>brown sugar boba</td>\n",
       "      <td>981</td>\n",
       "      <td>380</td>\n",
       "      <td>154</td>\n",
       "      <td>14</td>\n",
       "      <td>147</td>\n",
       "      <td>15</td>\n",
       "      <td>98</td>\n",
       "      <td>33</td>\n",
       "      <td>23</td>\n",
       "      <td>36</td>\n",
       "      <td>552</td>\n",
       "      <td>633</td>\n",
       "    </tr>\n",
       "    <tr>\n",
       "      <th>7</th>\n",
       "      <td>furits and nuts</td>\n",
       "      <td>478</td>\n",
       "      <td>462</td>\n",
       "      <td>354</td>\n",
       "      <td>49</td>\n",
       "      <td>89</td>\n",
       "      <td>0</td>\n",
       "      <td>1</td>\n",
       "      <td>0</td>\n",
       "      <td>1</td>\n",
       "      <td>8</td>\n",
       "      <td>335</td>\n",
       "      <td>214</td>\n",
       "    </tr>\n",
       "    <tr>\n",
       "      <th>8</th>\n",
       "      <td>dark chocolate</td>\n",
       "      <td>598</td>\n",
       "      <td>203</td>\n",
       "      <td>36</td>\n",
       "      <td>96</td>\n",
       "      <td>789</td>\n",
       "      <td>4</td>\n",
       "      <td>5</td>\n",
       "      <td>0</td>\n",
       "      <td>8</td>\n",
       "      <td>0</td>\n",
       "      <td>789</td>\n",
       "      <td>458</td>\n",
       "    </tr>\n",
       "    <tr>\n",
       "      <th>9</th>\n",
       "      <td>chocolate and orange</td>\n",
       "      <td>324</td>\n",
       "      <td>123</td>\n",
       "      <td>48</td>\n",
       "      <td>32</td>\n",
       "      <td>65</td>\n",
       "      <td>74</td>\n",
       "      <td>78</td>\n",
       "      <td>45</td>\n",
       "      <td>89</td>\n",
       "      <td>100</td>\n",
       "      <td>632</td>\n",
       "      <td>231</td>\n",
       "    </tr>\n",
       "    <tr>\n",
       "      <th>10</th>\n",
       "      <td>choco mint</td>\n",
       "      <td>458</td>\n",
       "      <td>412</td>\n",
       "      <td>78</td>\n",
       "      <td>78</td>\n",
       "      <td>78</td>\n",
       "      <td>7</td>\n",
       "      <td>3</td>\n",
       "      <td>8</td>\n",
       "      <td>2</td>\n",
       "      <td>1</td>\n",
       "      <td>323</td>\n",
       "      <td>564</td>\n",
       "    </tr>\n",
       "    <tr>\n",
       "      <th>11</th>\n",
       "      <td>choco butter naught</td>\n",
       "      <td>778</td>\n",
       "      <td>586</td>\n",
       "      <td>645</td>\n",
       "      <td>100</td>\n",
       "      <td>987</td>\n",
       "      <td>63</td>\n",
       "      <td>36</td>\n",
       "      <td>89</td>\n",
       "      <td>78</td>\n",
       "      <td>99</td>\n",
       "      <td>784</td>\n",
       "      <td>2310</td>\n",
       "    </tr>\n",
       "  </tbody>\n",
       "</table>\n",
       "</div>"
      ],
      "text/plain": [
       "                  flavor  january  february  march  april  may  june  july  \\\n",
       "0             red velvet      781       524    364    157  894    56    89   \n",
       "1                   oreo      210       324    344     32  123     1     3   \n",
       "2           sugar glazed      599       674    854     14  467    78    36   \n",
       "3           almond honey      124       112    114     23  198    12    32   \n",
       "4                 matcha      645       498    885     98  177    98    43   \n",
       "5       strawberry cream      210       372    369     78  163    26    45   \n",
       "6       brown sugar boba      981       380    154     14  147    15    98   \n",
       "7        furits and nuts      478       462    354     49   89     0     1   \n",
       "8         dark chocolate      598       203     36     96  789     4     5   \n",
       "9   chocolate and orange      324       123     48     32   65    74    78   \n",
       "10            choco mint      458       412     78     78   78     7     3   \n",
       "11   choco butter naught      778       586    645    100  987    63    36   \n",
       "\n",
       "    august  september  october  november  december  \n",
       "0       41         23       78       231       899  \n",
       "1        0          1        6       312       548  \n",
       "2       48         75       98       781      1602  \n",
       "3       41         23       36       300       566  \n",
       "4       96         26       71       549       897  \n",
       "5       22         54       41       207       456  \n",
       "6       33         23       36       552       633  \n",
       "7        0          1        8       335       214  \n",
       "8        0          8        0       789       458  \n",
       "9       45         89      100       632       231  \n",
       "10       8          2        1       323       564  \n",
       "11      89         78       99       784      2310  "
      ]
     },
     "execution_count": 6,
     "metadata": {},
     "output_type": "execute_result"
    }
   ],
   "source": [
    "## Let's check the sales dataframe\n",
    "df_sales"
   ]
  },
  {
   "cell_type": "markdown",
   "metadata": {},
   "source": [
    "## Part 1: Monthly Sales"
   ]
  },
  {
   "cell_type": "code",
   "execution_count": 7,
   "metadata": {},
   "outputs": [
    {
     "name": "stdout",
     "output_type": "stream",
     "text": [
      "(12, 12)\n",
      "(12, 1)\n",
      "(12, 1)\n"
     ]
    }
   ],
   "source": [
    "import numpy as np\n",
    "### Vectorizing the data\n",
    "\n",
    "sales_mat = np.array(df_sales.set_index('flavor'))\n",
    "prices_mat = np.array(df_prices)[0] \n",
    "costs_mat = np.array(df_prices)[1]\n",
    "\n",
    "prices_mat = prices_mat.reshape((12,1))  \n",
    "costs_mat = costs_mat.reshape((12,1)) \n",
    "\n",
    "\n",
    "## Do not alter these lines\n",
    "print(sales_mat.shape)\n",
    "print(prices_mat.shape)\n",
    "print(costs_mat.shape)\n",
    "# Expected Output\n",
    "# (12, 12)\n",
    "# (12, 1)\n",
    "# (12, 1)"
   ]
  },
  {
   "cell_type": "markdown",
   "metadata": {},
   "source": [
    "#### Formulas"
   ]
  },
  {
   "cell_type": "markdown",
   "metadata": {},
   "source": [
    "Take note that the fomula for revenue is: <br>\n",
    "$revenue = sales * price $ <br>\n",
    "In this case, think that revenue, sales, and price are vectors instead of individual values <br>\n",
    "The formula of cost per item sold is: <br>\n",
    "$cost_{sold} = sales * cost$ <br>\n",
    "The formula for profit is: <br>\n",
    "$profit = revenue - cost_{sold}$ <br>\n",
    "Solving for the monthly profit will be the sum of all profits made on that month."
   ]
  },
  {
   "cell_type": "code",
   "execution_count": 8,
   "metadata": {},
   "outputs": [],
   "source": [
    "#Create a function that *returns* and prints the monthly sales and profit for each month \n",
    "def monthly_sales(price, cost, sales):\n",
    "                 \n",
    "    monthly_revenue = (sales_mat @ prices_mat)\n",
    "    monthly_costs = (sales_mat @ costs_mat)\n",
    "    monthly_profits = (monthly_revenue - monthly_costs)\n",
    "\n",
    "    return monthly_revenue.flatten(), monthly_costs.flatten(), monthly_profits.flatten()"
   ]
  },
  {
   "cell_type": "code",
   "execution_count": 9,
   "metadata": {},
   "outputs": [],
   "source": [
    "### Do not alter this cell\n",
    "month_rev, month_cost, month_profit = monthly_sales(prices_mat, costs_mat, sales_mat)\n",
    "### print the values"
   ]
  },
  {
   "cell_type": "code",
   "execution_count": 23,
   "metadata": {},
   "outputs": [
    {
     "name": "stdout",
     "output_type": "stream",
     "text": [
      " \t\t\t Monthly Revenue: \n",
      "\n",
      "[160215  68730 198860  64830 143655  71835 116215  66620 126250  73355\n",
      "  75295 261125]\n",
      "\n",
      " \t\t\t Monthly Costs: \n",
      "\n",
      "[108442  45753 133177  44058  94868  47086  79952  44114  87730  50319\n",
      "  51082 176836]\n",
      "\n",
      " \t\t\t Monthly Profits: \n",
      "\n",
      "[51773 22977 65683 20772 48787 24749 36263 22506 38520 23036 24213 84289]\n",
      "\n"
     ]
    }
   ],
   "source": [
    "print(f' \\t\\t\\t Monthly Revenue: \\n\\n{month_rev}\\n')  \n",
    "print(f' \\t\\t\\t Monthly Costs: \\n\\n{month_cost}\\n')\n",
    "print(f' \\t\\t\\t Monthly Profits: \\n\\n{month_profit}\\n')"
   ]
  },
  {
   "cell_type": "markdown",
   "metadata": {},
   "source": [
    "## Part 2: Flavor Sales"
   ]
  },
  {
   "cell_type": "code",
   "execution_count": 11,
   "metadata": {},
   "outputs": [],
   "source": [
    "#Create a function that *returns* and prints the flavor profits for the whole year \n",
    "def flavor_sales(price, cost, sales):\n",
    "    \n",
    "    flavor_revenue = (sales_mat @ prices_mat)\n",
    "    flavor_costs = (sales_mat @ costs_mat)\n",
    "    flavor_profits = flavor_revenue - flavor_costs  \n",
    "    \n",
    "    return flavor_profits.flatten()"
   ]
  },
  {
   "cell_type": "code",
   "execution_count": 12,
   "metadata": {},
   "outputs": [],
   "source": [
    "### Do not alter this cell\n",
    "flavor_profit = flavor_sales(prices_mat, costs_mat, sales_mat)\n",
    "### print the values"
   ]
  },
  {
   "cell_type": "code",
   "execution_count": 13,
   "metadata": {
    "scrolled": true
   },
   "outputs": [
    {
     "name": "stdout",
     "output_type": "stream",
     "text": [
      "\t\t\t Profit per Month: \n",
      "  [51773 22977 65683 20772 48787 24749 36263 22506 38520 23036 24213 84289]\n"
     ]
    }
   ],
   "source": [
    "print(f'\\t\\t\\t Profit per Month: \\n ', flavor_profit)"
   ]
  },
  {
   "cell_type": "code",
   "execution_count": 14,
   "metadata": {},
   "outputs": [],
   "source": [
    "Flavors= [('Red Velvet',51773),\n",
    "             ('Oreo',22977),\n",
    "             ('Sugar Glared',65683),\n",
    "             ('Almond Honey', 20772),\n",
    "             ('Matcha', 48787),\n",
    "             ('Strawberry Cream', 24749),\n",
    "             ('Brown Sugar Boba', 36263),\n",
    "             ('Fruits and Nuts', 22506),\n",
    "             ('Dark Chocolate', 38520),\n",
    "             ('Chocolate and range', 23036),\n",
    "             ('Choco Mint', 24213),\n",
    "             ('Choco Butter Naught', 84289)\n",
    "]"
   ]
  },
  {
   "cell_type": "code",
   "execution_count": 15,
   "metadata": {},
   "outputs": [
    {
     "name": "stdout",
     "output_type": "stream",
     "text": [
      "\tThe Best Top 3 Flavors Are:\n"
     ]
    },
    {
     "data": {
      "text/plain": [
       "['Choco Butter Naught', 'Sugar Glared', 'Red Velvet']"
      ]
     },
     "execution_count": 15,
     "metadata": {},
     "output_type": "execute_result"
    }
   ],
   "source": [
    "top3 = sorted(Flavors, key=lambda x: x[1], reverse = True)[:3]\n",
    "besttop3 = []\n",
    "for best in top3:\n",
    "  besttop3.append(best[0])\n",
    "print('\\tThe Best Top 3 Flavors Are:')\n",
    "\n",
    "besttop3"
   ]
  },
  {
   "cell_type": "code",
   "execution_count": 16,
   "metadata": {},
   "outputs": [
    {
     "name": "stdout",
     "output_type": "stream",
     "text": [
      "\tThe Worst Top 3 Flavors Are:\n"
     ]
    },
    {
     "data": {
      "text/plain": [
       "['Almond Honey', 'Fruits and Nuts', 'Oreo']"
      ]
     },
     "execution_count": 16,
     "metadata": {},
     "output_type": "execute_result"
    }
   ],
   "source": [
    "top3 = sorted(Flavors, key=lambda x: x[1], reverse = False)[:3]\n",
    "besttop3 = []\n",
    "for best in top3:\n",
    "  besttop3.append(best[0])\n",
    "print('\\tThe Worst Top 3 Flavors Are:')\n",
    "\n",
    "besttop3"
   ]
  },
  {
   "cell_type": "markdown",
   "metadata": {},
   "source": [
    "## Part 3: Visualizing the Data (Optional for +40%)\n",
    "You can try to visualize the data in the most comprehensible chart that you can use."
   ]
  },
  {
   "cell_type": "code",
   "execution_count": 17,
   "metadata": {},
   "outputs": [],
   "source": [
    "import matplotlib.pyplot as plt\n",
    "import matplotlib\n",
    "import seaborn as sns\n",
    "\n",
    "%matplotlib inline"
   ]
  },
  {
   "cell_type": "markdown",
   "metadata": {},
   "source": [
    "#### Entire Dataset"
   ]
  },
  {
   "cell_type": "code",
   "execution_count": 22,
   "metadata": {},
   "outputs": [
    {
     "data": {
      "image/png": "[encoded data removed]",
      "text/plain": [
       "<Figure size 1440x720 with 1 Axes>"
      ]
     },
     "metadata": {
      "needs_background": "light"
     },
     "output_type": "display_data"
    }
   ],
   "source": [
    "plt.figure(figsize=(20,10))\n",
    "x=np.arange(12)\n",
    "\n",
    "Match = [1,2,3,4,5,6,7,8,9,10,11,12]\n",
    "\n",
    "plt.bar(x+0.00,flavor_profit, color = 'r', width = 0.15, label =\" Profit in Flavors\")\n",
    "plt.bar(x+0.25,month_rev, color = 'b', width = 0.15, label =\" Monthly Revenue\")\n",
    "plt.bar(x+0.50,month_cost, color = 'g', width = 0.15, label =\" Monthly Cost\")\n",
    "plt.bar(x+0.75,month_profit, color = 'skyblue', width = 0.15, label =\" Monthly Profit\")\n",
    "\n",
    "\n",
    "plt.xticks(x,Match)\n",
    "plt.title('Bebangs Data  ', fontsize = 30, color='pink')\n",
    "\n",
    "plt.legend(fontsize=20, loc =(0,.75))\n",
    "\n",
    "plt.grid()\n",
    "plt.show()"
   ]
  },
  {
   "cell_type": "markdown",
   "metadata": {},
   "source": [
    "# Montly Sales"
   ]
  },
  {
   "cell_type": "code",
   "execution_count": 612,
   "metadata": {},
   "outputs": [
    {
     "data": {
      "image/png": "[encoded data removed]",
      "text/plain": [
       "<Figure size 1080x360 with 1 Axes>"
      ]
     },
     "metadata": {
      "needs_background": "light"
     },
     "output_type": "display_data"
    }
   ],
   "source": [
    "plt.figure(figsize=(15,5))\n",
    "Months = [' January ',' February ',' March ', ' April ',' May ',' June ',\n",
    "           ' July ',' August ',' September ',' October ',' November ',\n",
    "           ' December ']\n",
    "\n",
    "bars = plt.bar (Months,month_profit,)\n",
    "plt.title(' Monthly Sales ',color = 'g', fontdict={'fontname': 'Comic Sans MS', 'fontsize': 30 })\n",
    "plt.ylabel(' Profit ',size = 30, color = 'r')\n",
    "plt.xlabel(' Month ',size = 30, color = 'r')\n",
    "\n",
    "bars[0].set_hatch('/')\n",
    "bars[1].set_hatch('o')\n",
    "bars[2].set_hatch('*')\n",
    "bars[3].set_hatch('-')\n",
    "bars[4].set_hatch('/')\n",
    "bars[5].set_hatch('o')\n",
    "bars[6].set_hatch('*')\n",
    "bars[7].set_hatch('-')\n",
    "bars[8].set_hatch('/')\n",
    "bars[9].set_hatch('o')\n",
    "bars[10].set_hatch('*')\n",
    "bars[11].set_hatch('-')\n",
    "\n",
    "plt.grid()\n",
    "plt.show()\n"
   ]
  },
  {
   "cell_type": "markdown",
   "metadata": {},
   "source": [
    "# Flavor Sales"
   ]
  },
  {
   "cell_type": "code",
   "execution_count": 563,
   "metadata": {},
   "outputs": [
    {
     "data": {
      "image/png": "[encoded data removed]",
      "text/plain": [
       "<Figure size 1080x360 with 1 Axes>"
      ]
     },
     "metadata": {
      "needs_background": "light"
     },
     "output_type": "display_data"
    }
   ],
   "source": [
    "plt.figure(figsize=(15,5))\n",
    "flavors = [' Red\\nVelvet ',' Oreo ',' Sugar\\nGlazed ', 'Almond\\nHoney ',' Matcha ',' Stawberry\\nCream ',\n",
    "           ' Brown\\nSugar\\nBoba ',' Fruits\\nand\\nNuts ',' Dark\\nChocolate ',' Chocolate\\nand\\nOrange ',' Choco\\nMint ',\n",
    "           ' Choco\\nButter\\nNaught ']\n",
    "\n",
    "bars = plt.bar (flavors,flavor_profit)\n",
    "plt.title('Flavor Sales per Month',color = 'g', fontdict={'fontname': 'Comic Sans MS', 'fontsize': 30 })\n",
    "plt.ylabel('Profit',size = 30, color = 'r')\n",
    "plt.xlabel('Flavor',size = 30, color = 'r')\n",
    "\n",
    "bars[0].set_hatch('/')\n",
    "bars[1].set_hatch('o')\n",
    "bars[2].set_hatch('*')\n",
    "bars[3].set_hatch('-')\n",
    "bars[4].set_hatch('/')\n",
    "bars[5].set_hatch('o')\n",
    "bars[6].set_hatch('*')\n",
    "bars[7].set_hatch('-')\n",
    "bars[8].set_hatch('/')\n",
    "bars[9].set_hatch('o')\n",
    "bars[10].set_hatch('*')\n",
    "bars[11].set_hatch('-')\n",
    "\n",
    "plt.grid()\n",
    "plt.show()"
   ]
  },
  {
   "cell_type": "markdown",
   "metadata": {},
   "source": [
    "## Part 4: Business Recommendation and Conclusion\n",
    "Present the findings of your data analysis and provide recommendations"
   ]
  },
  {
   "cell_type": "markdown",
   "metadata": {},
   "source": [
    "In the given data, it can be seen that the highest profit was generated in the first quarter of the year. On the second and third quarter, the profit is slowly declining. But on the last quarter, on the month of November and December, the profit rose again. Moving on, the best selling flavors are the choco butter naught, matcha, and sugar glazed. While the worst selling flavors are Almond Honey, Fruits and Nuts, Oreo. With this data presented, Bebang will be easily informed regarding on how her business is doing. She will be able  to know which season or time of the year are weak in sales and profit and which flavors are not doing well. That way, she'll be able to work harder on business strategies and advertising. My recommendation for Bebang is that she should decrease the stocks of flavors with weak sales and profit and then slowly pull it out already if they're not still doing well in the following months. She could also add a twist on the other flavors and start new advertising strategies to further improve sales."
   ]
  }
 ],
 "metadata": {
  "kernelspec": {
   "display_name": "Python 3",
   "language": "python",
   "name": "python3"
  },
  "language_info": {
   "codemirror_mode": {
    "name": "ipython",
    "version": 3
   },
   "file_extension": ".py",
   "mimetype": "text/x-python",
   "name": "python",
   "nbconvert_exporter": "python",
   "pygments_lexer": "ipython3",
   "version": "3.8.3"
  }
 },
 "nbformat": 4,
 "nbformat_minor": 4
}
